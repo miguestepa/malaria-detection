{
 "cells": [
  {
   "cell_type": "code",
   "execution_count": 22,
   "metadata": {},
   "outputs": [],
   "source": [
    "from tensorflow.keras.layers import Input, Lambda, Dense, Flatten, Conv2D\n",
    "from tensorflow.keras.models import Model\n",
    "from tensorflow.keras.applications.vgg19 import VGG19\n",
    "from tensorflow.keras.applications.resnet50 import preprocess_input\n",
    "from tensorflow.keras.preprocessing import image\n",
    "from tensorflow.keras.preprocessing.image import ImageDataGenerator, load_img\n",
    "from tensorflow.keras.models import Sequential\n",
    "import numpy as np\n",
    "from glob import glob\n",
    "import matplotlib.pyplot as plt"
   ]
  },
  {
   "cell_type": "code",
   "execution_count": 2,
   "metadata": {},
   "outputs": [
    {
     "name": "stdout",
     "output_type": "stream",
     "text": [
      "2.2.0\n"
     ]
    }
   ],
   "source": [
    "import tensorflow as tf\n",
    "print(tf.__version__)"
   ]
  },
  {
   "cell_type": "code",
   "execution_count": 3,
   "metadata": {},
   "outputs": [],
   "source": [
    "# re-size all the images to this size\n",
    "# I?ll be careful with these paths, since they are different in my computer.\n",
    "\n",
    "IMAGE_SIZE = [224,224]\n",
    "\n",
    "train_path = 'cell_images/Train'\n",
    "valid_path = 'cell_images/Test'"
   ]
  },
  {
   "cell_type": "code",
   "execution_count": 4,
   "metadata": {},
   "outputs": [],
   "source": [
    "# Import the Vgg 16 library as shown below and add preprocessing layer yo the fri\n",
    "# here we will be using imagenet weights\n",
    "\n",
    "vgg19 = VGG19(input_shape = IMAGE_SIZE + [3], weights = 'imagenet', include_top = False)"
   ]
  },
  {
   "cell_type": "code",
   "execution_count": 5,
   "metadata": {},
   "outputs": [],
   "source": [
    "# dont train existing weights\n",
    "for layer in vgg19.layers:\n",
    "    layer.trainable = False"
   ]
  },
  {
   "cell_type": "code",
   "execution_count": 6,
   "metadata": {},
   "outputs": [],
   "source": [
    "#useful for getin number of the output classes\n",
    "folders = glob('Dataset/Train/*')"
   ]
  },
  {
   "cell_type": "code",
   "execution_count": 7,
   "metadata": {},
   "outputs": [
    {
     "data": {
      "text/plain": [
       "['Dataset/Train\\\\Parasite', 'Dataset/Train\\\\Uninfected']"
      ]
     },
     "execution_count": 7,
     "metadata": {},
     "output_type": "execute_result"
    }
   ],
   "source": [
    "folders"
   ]
  },
  {
   "cell_type": "code",
   "execution_count": 8,
   "metadata": {},
   "outputs": [],
   "source": [
    "#our layers - you can add more if you want\n",
    "\n",
    "x = Flatten()(vgg19.output)"
   ]
  },
  {
   "cell_type": "code",
   "execution_count": 9,
   "metadata": {},
   "outputs": [],
   "source": [
    "prediction = Dense(len(folders), activation = 'softmax')(x)\n",
    "\n",
    "# create a model object\n",
    "model = Model(inputs = vgg19.input, outputs = prediction)"
   ]
  },
  {
   "cell_type": "code",
   "execution_count": 10,
   "metadata": {},
   "outputs": [
    {
     "name": "stdout",
     "output_type": "stream",
     "text": [
      "Model: \"model\"\n",
      "_________________________________________________________________\n",
      "Layer (type)                 Output Shape              Param #   \n",
      "=================================================================\n",
      "input_1 (InputLayer)         [(None, 224, 224, 3)]     0         \n",
      "_________________________________________________________________\n",
      "block1_conv1 (Conv2D)        (None, 224, 224, 64)      1792      \n",
      "_________________________________________________________________\n",
      "block1_conv2 (Conv2D)        (None, 224, 224, 64)      36928     \n",
      "_________________________________________________________________\n",
      "block1_pool (MaxPooling2D)   (None, 112, 112, 64)      0         \n",
      "_________________________________________________________________\n",
      "block2_conv1 (Conv2D)        (None, 112, 112, 128)     73856     \n",
      "_________________________________________________________________\n",
      "block2_conv2 (Conv2D)        (None, 112, 112, 128)     147584    \n",
      "_________________________________________________________________\n",
      "block2_pool (MaxPooling2D)   (None, 56, 56, 128)       0         \n",
      "_________________________________________________________________\n",
      "block3_conv1 (Conv2D)        (None, 56, 56, 256)       295168    \n",
      "_________________________________________________________________\n",
      "block3_conv2 (Conv2D)        (None, 56, 56, 256)       590080    \n",
      "_________________________________________________________________\n",
      "block3_conv3 (Conv2D)        (None, 56, 56, 256)       590080    \n",
      "_________________________________________________________________\n",
      "block3_conv4 (Conv2D)        (None, 56, 56, 256)       590080    \n",
      "_________________________________________________________________\n",
      "block3_pool (MaxPooling2D)   (None, 28, 28, 256)       0         \n",
      "_________________________________________________________________\n",
      "block4_conv1 (Conv2D)        (None, 28, 28, 512)       1180160   \n",
      "_________________________________________________________________\n",
      "block4_conv2 (Conv2D)        (None, 28, 28, 512)       2359808   \n",
      "_________________________________________________________________\n",
      "block4_conv3 (Conv2D)        (None, 28, 28, 512)       2359808   \n",
      "_________________________________________________________________\n",
      "block4_conv4 (Conv2D)        (None, 28, 28, 512)       2359808   \n",
      "_________________________________________________________________\n",
      "block4_pool (MaxPooling2D)   (None, 14, 14, 512)       0         \n",
      "_________________________________________________________________\n",
      "block5_conv1 (Conv2D)        (None, 14, 14, 512)       2359808   \n",
      "_________________________________________________________________\n",
      "block5_conv2 (Conv2D)        (None, 14, 14, 512)       2359808   \n",
      "_________________________________________________________________\n",
      "block5_conv3 (Conv2D)        (None, 14, 14, 512)       2359808   \n",
      "_________________________________________________________________\n",
      "block5_conv4 (Conv2D)        (None, 14, 14, 512)       2359808   \n",
      "_________________________________________________________________\n",
      "block5_pool (MaxPooling2D)   (None, 7, 7, 512)         0         \n",
      "_________________________________________________________________\n",
      "flatten (Flatten)            (None, 25088)             0         \n",
      "_________________________________________________________________\n",
      "dense (Dense)                (None, 2)                 50178     \n",
      "=================================================================\n",
      "Total params: 20,074,562\n",
      "Trainable params: 50,178\n",
      "Non-trainable params: 20,024,384\n",
      "_________________________________________________________________\n"
     ]
    }
   ],
   "source": [
    "#view the structure of the model\n",
    "\n",
    "model.summary()"
   ]
  },
  {
   "cell_type": "code",
   "execution_count": 11,
   "metadata": {},
   "outputs": [],
   "source": [
    "# tell the model what cost and optimization to use\n",
    "model.compile(\n",
    "    loss = 'categorical_crossentropy', # i use this cathegorical crossentropy cause' im having 2 nodes\n",
    "    optimizer = 'adam',\n",
    "    metrics = ['accuracy'] #i use an accuracy matrix because is a categorization problem\n",
    ")"
   ]
  },
  {
   "cell_type": "code",
   "execution_count": 12,
   "metadata": {},
   "outputs": [],
   "source": [
    "#Use the image data generator to import the images from the dataset\n",
    "from tensorflow.keras.preprocessing.image import ImageDataGenerator\n",
    "\n",
    "train_datagen = ImageDataGenerator(rescale = 1./255,\n",
    "                                  shear_range = 0.2,\n",
    "                                  zoom_range = 0.2,\n",
    "                                  horizontal_flip = True)\n",
    "\n",
    "test_datagen = ImageDataGenerator(rescale = 1./255)"
   ]
  },
  {
   "cell_type": "code",
   "execution_count": 13,
   "metadata": {},
   "outputs": [
    {
     "name": "stdout",
     "output_type": "stream",
     "text": [
      "Found 416 images belonging to 2 classes.\n"
     ]
    }
   ],
   "source": [
    "#make sure you provide the same target size as initilized for the image\n",
    "training_set = train_datagen.flow_from_directory('Dataset/Train',\n",
    "                                                target_size = (224, 224),\n",
    "                                                batch_size = 32,\n",
    "                                                class_mode= 'categorical')"
   ]
  },
  {
   "cell_type": "code",
   "execution_count": 14,
   "metadata": {},
   "outputs": [
    {
     "data": {
      "text/plain": [
       "<keras_preprocessing.image.directory_iterator.DirectoryIterator at 0x20d64ef6cd0>"
      ]
     },
     "execution_count": 14,
     "metadata": {},
     "output_type": "execute_result"
    }
   ],
   "source": [
    "training_set"
   ]
  },
  {
   "cell_type": "code",
   "execution_count": 15,
   "metadata": {},
   "outputs": [
    {
     "name": "stdout",
     "output_type": "stream",
     "text": [
      "Found 134 images belonging to 2 classes.\n"
     ]
    }
   ],
   "source": [
    "test_set = test_datagen.flow_from_directory('Dataset/Test',\n",
    "                                           target_size = (224, 224),\n",
    "                                           batch_size = 32, #in each iteration, the program will analyze 32 images. must be low to not destroy the RAM\n",
    "                                           class_mode = 'categorical')"
   ]
  },
  {
   "cell_type": "code",
   "execution_count": 20,
   "metadata": {},
   "outputs": [
    {
     "name": "stdout",
     "output_type": "stream",
     "text": [
      "Wall time: 0 ns\n",
      "Epoch 1/2\n",
      "13/13 [==============================] - 143s 11s/step - loss: 1.6674 - accuracy: 0.5024 - val_loss: 0.9128 - val_accuracy: 0.6791\n",
      "Epoch 2/2\n",
      "13/13 [==============================] - 142s 11s/step - loss: 0.8046 - accuracy: 0.6418 - val_loss: 0.7902 - val_accuracy: 0.5970\n"
     ]
    }
   ],
   "source": [
    "#fit the model\n",
    "# run the cell. it will take some time to execute\n",
    "\n",
    "%time \n",
    "r = model.fit(training_set,validation_data=test_set,epochs=2,\n",
    "                    steps_per_epoch=len(training_set),validation_steps=len(test_set))"
   ]
  },
  {
   "cell_type": "code",
   "execution_count": 23,
   "metadata": {},
   "outputs": [
    {
     "data": {
      "image/png": "[encoded data removed]",
      "text/plain": [
       "<Figure size 432x288 with 1 Axes>"
      ]
     },
     "metadata": {
      "needs_background": "light"
     },
     "output_type": "display_data"
    },
    {
     "data": {
      "image/png": "[encoded data removed]",
      "text/plain": [
       "<Figure size 432x288 with 1 Axes>"
      ]
     },
     "metadata": {
      "needs_background": "light"
     },
     "output_type": "display_data"
    },
    {
     "data": {
      "text/plain": [
       "<Figure size 432x288 with 0 Axes>"
      ]
     },
     "metadata": {},
     "output_type": "display_data"
    }
   ],
   "source": [
    "#plot theloss\n",
    "plt.plot(r.history['loss'], label = 'train loss')\n",
    "plt.plot(r.history['val_loss'], label = 'val loss')\n",
    "plt.legend()\n",
    "plt.show()\n",
    "plt.savefig('LossVal_loss')\n",
    "\n",
    "#plot accuracy\n",
    "plt.plot(r.history['accuracy'], label = 'train acc')\n",
    "plt.plot(r.history['val_accuracy'], label = 'val acc')\n",
    "plt.legend()\n",
    "plt.show()\n",
    "plt.savefig('AccVal_loss')"
   ]
  },
  {
   "cell_type": "code",
   "execution_count": 24,
   "metadata": {},
   "outputs": [],
   "source": [
    "#sae it as a h5 file\n",
    "\n",
    "from tensorflow.keras.models import load_model\n",
    "\n",
    "model.save('model_vgg19.h5')"
   ]
  },
  {
   "cell_type": "code",
   "execution_count": 26,
   "metadata": {},
   "outputs": [],
   "source": [
    "y_pred = model.predict(test_set)"
   ]
  },
  {
   "cell_type": "code",
   "execution_count": 27,
   "metadata": {},
   "outputs": [
    {
     "data": {
      "text/plain": [
       "array([[0.80628   , 0.19372004],\n",
       "       [0.1437124 , 0.8562876 ],\n",
       "       [0.5585962 , 0.44140378],\n",
       "       [0.12720339, 0.8727966 ],\n",
       "       [0.5862629 , 0.41373712],\n",
       "       [0.548105  , 0.451895  ],\n",
       "       [0.17816165, 0.8218384 ],\n",
       "       [0.72842085, 0.27157912],\n",
       "       [0.06599832, 0.9340017 ],\n",
       "       [0.11429308, 0.8857069 ],\n",
       "       [0.37308297, 0.626917  ],\n",
       "       [0.2948757 , 0.70512426],\n",
       "       [0.14431377, 0.85568625],\n",
       "       [0.20581014, 0.7941899 ],\n",
       "       [0.8914358 , 0.10856418],\n",
       "       [0.3049796 , 0.6950204 ],\n",
       "       [0.12055575, 0.87944424],\n",
       "       [0.30514908, 0.6948509 ],\n",
       "       [0.57828665, 0.42171338],\n",
       "       [0.17240278, 0.8275972 ],\n",
       "       [0.4741815 , 0.52581847],\n",
       "       [0.18884553, 0.8111544 ],\n",
       "       [0.6104607 , 0.38953924],\n",
       "       [0.2189018 , 0.7810982 ],\n",
       "       [0.25805426, 0.74194574],\n",
       "       [0.23396917, 0.7660308 ],\n",
       "       [0.05720025, 0.94279975],\n",
       "       [0.07270847, 0.9272916 ],\n",
       "       [0.07410707, 0.925893  ],\n",
       "       [0.8570092 , 0.14299084],\n",
       "       [0.22332267, 0.77667737],\n",
       "       [0.46704283, 0.5329572 ],\n",
       "       [0.03721152, 0.9627885 ],\n",
       "       [0.7695177 , 0.23048225],\n",
       "       [0.17378284, 0.8262172 ],\n",
       "       [0.14867029, 0.85132974],\n",
       "       [0.21141307, 0.788587  ],\n",
       "       [0.09852689, 0.90147316],\n",
       "       [0.5427537 , 0.4572463 ],\n",
       "       [0.09533345, 0.90466654],\n",
       "       [0.99213785, 0.00786214],\n",
       "       [0.04430883, 0.95569116],\n",
       "       [0.3096968 , 0.69030327],\n",
       "       [0.04175722, 0.95824283],\n",
       "       [0.57160443, 0.42839554],\n",
       "       [0.09640987, 0.9035901 ],\n",
       "       [0.7200932 , 0.27990684],\n",
       "       [0.7306803 , 0.2693197 ],\n",
       "       [0.10810276, 0.8918972 ],\n",
       "       [0.77681357, 0.22318645],\n",
       "       [0.4713765 , 0.52862346],\n",
       "       [0.7285081 , 0.2714919 ],\n",
       "       [0.5518112 , 0.44818875],\n",
       "       [0.253749  , 0.74625105],\n",
       "       [0.22024445, 0.77975553],\n",
       "       [0.07140335, 0.9285967 ],\n",
       "       [0.96208936, 0.03791063],\n",
       "       [0.95197874, 0.04802127],\n",
       "       [0.08194485, 0.9180552 ],\n",
       "       [0.47580585, 0.5241941 ],\n",
       "       [0.09050082, 0.90949917],\n",
       "       [0.12203662, 0.87796336],\n",
       "       [0.5954029 , 0.4045971 ],\n",
       "       [0.30965713, 0.6903429 ],\n",
       "       [0.8220808 , 0.1779192 ],\n",
       "       [0.14594433, 0.85405564],\n",
       "       [0.98655814, 0.01344191],\n",
       "       [0.11015601, 0.88984394],\n",
       "       [0.2541969 , 0.74580306],\n",
       "       [0.8108634 , 0.18913664],\n",
       "       [0.77447027, 0.22552975],\n",
       "       [0.28427866, 0.71572137],\n",
       "       [0.5595592 , 0.44044077],\n",
       "       [0.31705514, 0.6829449 ],\n",
       "       [0.09674442, 0.9032556 ],\n",
       "       [0.23457916, 0.7654208 ],\n",
       "       [0.5894955 , 0.41050452],\n",
       "       [0.2912588 , 0.70874125],\n",
       "       [0.51116353, 0.4888365 ],\n",
       "       [0.15512934, 0.8448706 ],\n",
       "       [0.19266583, 0.8073342 ],\n",
       "       [0.3541204 , 0.6458796 ],\n",
       "       [0.0406235 , 0.9593765 ],\n",
       "       [0.78275406, 0.21724595],\n",
       "       [0.26177943, 0.7382205 ],\n",
       "       [0.09054701, 0.909453  ],\n",
       "       [0.38352793, 0.61647207],\n",
       "       [0.09414962, 0.9058504 ],\n",
       "       [0.11226623, 0.88773376],\n",
       "       [0.11666083, 0.8833391 ],\n",
       "       [0.16844596, 0.831554  ],\n",
       "       [0.08166329, 0.9183367 ],\n",
       "       [0.54165345, 0.45834658],\n",
       "       [0.85175014, 0.14824988],\n",
       "       [0.3730207 , 0.6269793 ],\n",
       "       [0.48652765, 0.5134723 ],\n",
       "       [0.06824271, 0.9317573 ],\n",
       "       [0.06710194, 0.93289804],\n",
       "       [0.45003238, 0.5499676 ],\n",
       "       [0.515811  , 0.48418903],\n",
       "       [0.6839842 , 0.3160158 ],\n",
       "       [0.0899396 , 0.91006035],\n",
       "       [0.6554486 , 0.3445514 ],\n",
       "       [0.6637017 , 0.3362983 ],\n",
       "       [0.40625742, 0.5937426 ],\n",
       "       [0.11262507, 0.88737494],\n",
       "       [0.10908312, 0.8909169 ],\n",
       "       [0.6054587 , 0.39454135],\n",
       "       [0.90281624, 0.09718378],\n",
       "       [0.61914665, 0.38085335],\n",
       "       [0.08681055, 0.9131895 ],\n",
       "       [0.10492238, 0.8950776 ],\n",
       "       [0.12964332, 0.8703567 ],\n",
       "       [0.54516304, 0.45483702],\n",
       "       [0.06312527, 0.93687475],\n",
       "       [0.651961  , 0.34803894],\n",
       "       [0.3788804 , 0.6211195 ],\n",
       "       [0.512599  , 0.48740095],\n",
       "       [0.12214028, 0.8778597 ],\n",
       "       [0.20266166, 0.7973383 ],\n",
       "       [0.24048479, 0.75951517],\n",
       "       [0.96683896, 0.03316109],\n",
       "       [0.07377169, 0.9262283 ],\n",
       "       [0.07692991, 0.9230701 ],\n",
       "       [0.7013499 , 0.29865012],\n",
       "       [0.99502414, 0.00497578],\n",
       "       [0.13233703, 0.86766297],\n",
       "       [0.1106433 , 0.8893567 ],\n",
       "       [0.3200594 , 0.6799406 ],\n",
       "       [0.73816377, 0.26183623],\n",
       "       [0.09424776, 0.90575224],\n",
       "       [0.92061406, 0.07938591],\n",
       "       [0.6804445 , 0.31955552],\n",
       "       [0.10972244, 0.8902775 ]], dtype=float32)"
      ]
     },
     "execution_count": 27,
     "metadata": {},
     "output_type": "execute_result"
    }
   ],
   "source": [
    "y_pred"
   ]
  },
  {
   "cell_type": "code",
   "execution_count": 28,
   "metadata": {},
   "outputs": [],
   "source": [
    "import numpy as np\n",
    "\n",
    "y_pred = np.argmax(y_pred, axis = 1)"
   ]
  },
  {
   "cell_type": "code",
   "execution_count": 30,
   "metadata": {},
   "outputs": [
    {
     "data": {
      "text/plain": [
       "array([0, 1, 0, 1, 0, 0, 1, 0, 1, 1, 1, 1, 1, 1, 0, 1, 1, 1, 0, 1, 1, 1,\n",
       "       0, 1, 1, 1, 1, 1, 1, 0, 1, 1, 1, 0, 1, 1, 1, 1, 0, 1, 0, 1, 1, 1,\n",
       "       0, 1, 0, 0, 1, 0, 1, 0, 0, 1, 1, 1, 0, 0, 1, 1, 1, 1, 0, 1, 0, 1,\n",
       "       0, 1, 1, 0, 0, 1, 0, 1, 1, 1, 0, 1, 0, 1, 1, 1, 1, 0, 1, 1, 1, 1,\n",
       "       1, 1, 1, 1, 0, 0, 1, 1, 1, 1, 1, 0, 0, 1, 0, 0, 1, 1, 1, 0, 0, 0,\n",
       "       1, 1, 1, 0, 1, 0, 1, 0, 1, 1, 1, 0, 1, 1, 0, 0, 1, 1, 1, 0, 1, 0,\n",
       "       0, 1], dtype=int64)"
      ]
     },
     "execution_count": 30,
     "metadata": {},
     "output_type": "execute_result"
    }
   ],
   "source": [
    "y_pred\n",
    "\n",
    "# 0 means infected, 1 non infected with malaria"
   ]
  },
  {
   "cell_type": "code",
   "execution_count": 32,
   "metadata": {},
   "outputs": [],
   "source": [
    "#these two allow me to: 1) load the model I created 2) understand images\n",
    "\n",
    "from tensorflow.keras.models import load_model\n",
    "from tensorflow.keras.preprocessing import image"
   ]
  },
  {
   "cell_type": "code",
   "execution_count": 33,
   "metadata": {},
   "outputs": [],
   "source": [
    "model = load_model('model_vgg19.h5')"
   ]
  },
  {
   "cell_type": "code",
   "execution_count": 39,
   "metadata": {},
   "outputs": [],
   "source": [
    "# i choose one of the images of the train folder\n",
    "\n",
    "img = image.load_img('Dataset/Train/Parasite/C33P1thinF_IMG_20150619_114756a_cell_179.png', target_size = (224,224))"
   ]
  },
  {
   "cell_type": "code",
   "execution_count": 40,
   "metadata": {
    "collapsed": true
   },
   "outputs": [
    {
     "data": {
      "text/plain": [
       "array([[[0., 0., 0.],\n",
       "        [0., 0., 0.],\n",
       "        [0., 0., 0.],\n",
       "        ...,\n",
       "        [0., 0., 0.],\n",
       "        [0., 0., 0.],\n",
       "        [0., 0., 0.]],\n",
       "\n",
       "       [[0., 0., 0.],\n",
       "        [0., 0., 0.],\n",
       "        [0., 0., 0.],\n",
       "        ...,\n",
       "        [0., 0., 0.],\n",
       "        [0., 0., 0.],\n",
       "        [0., 0., 0.]],\n",
       "\n",
       "       [[0., 0., 0.],\n",
       "        [0., 0., 0.],\n",
       "        [0., 0., 0.],\n",
       "        ...,\n",
       "        [0., 0., 0.],\n",
       "        [0., 0., 0.],\n",
       "        [0., 0., 0.]],\n",
       "\n",
       "       ...,\n",
       "\n",
       "       [[0., 0., 0.],\n",
       "        [0., 0., 0.],\n",
       "        [0., 0., 0.],\n",
       "        ...,\n",
       "        [0., 0., 0.],\n",
       "        [0., 0., 0.],\n",
       "        [0., 0., 0.]],\n",
       "\n",
       "       [[0., 0., 0.],\n",
       "        [0., 0., 0.],\n",
       "        [0., 0., 0.],\n",
       "        ...,\n",
       "        [0., 0., 0.],\n",
       "        [0., 0., 0.],\n",
       "        [0., 0., 0.]],\n",
       "\n",
       "       [[0., 0., 0.],\n",
       "        [0., 0., 0.],\n",
       "        [0., 0., 0.],\n",
       "        ...,\n",
       "        [0., 0., 0.],\n",
       "        [0., 0., 0.],\n",
       "        [0., 0., 0.]]], dtype=float32)"
      ]
     },
     "execution_count": 40,
     "metadata": {},
     "output_type": "execute_result"
    }
   ],
   "source": [
    "x=image.img_to_array(img)\n",
    "x"
   ]
  },
  {
   "cell_type": "code",
   "execution_count": 41,
   "metadata": {},
   "outputs": [
    {
     "data": {
      "text/plain": [
       "(224, 224, 3)"
      ]
     },
     "execution_count": 41,
     "metadata": {},
     "output_type": "execute_result"
    }
   ],
   "source": [
    "x.shape"
   ]
  },
  {
   "cell_type": "code",
   "execution_count": 42,
   "metadata": {},
   "outputs": [],
   "source": [
    "x= x/255"
   ]
  },
  {
   "cell_type": "code",
   "execution_count": 43,
   "metadata": {},
   "outputs": [
    {
     "data": {
      "text/plain": [
       "(1, 224, 224, 3)"
      ]
     },
     "execution_count": 43,
     "metadata": {},
     "output_type": "execute_result"
    }
   ],
   "source": [
    "x = np.expand_dims(x, axis=0)\n",
    "img_data = preprocess_input(x)\n",
    "img_data.shape"
   ]
  },
  {
   "cell_type": "code",
   "execution_count": 46,
   "metadata": {},
   "outputs": [
    {
     "data": {
      "text/plain": [
       "array([[0.2305139 , 0.76948607]], dtype=float32)"
      ]
     },
     "execution_count": 46,
     "metadata": {},
     "output_type": "execute_result"
    }
   ],
   "source": [
    "model.predict(img_data)"
   ]
  },
  {
   "cell_type": "code",
   "execution_count": 47,
   "metadata": {},
   "outputs": [],
   "source": [
    "a = np.argmax(model.predict(img_data), axis = 1)"
   ]
  },
  {
   "cell_type": "code",
   "execution_count": 48,
   "metadata": {},
   "outputs": [
    {
     "name": "stdout",
     "output_type": "stream",
     "text": [
      "uninfected\n"
     ]
    }
   ],
   "source": [
    "if (a==1):\n",
    "    print('uninfected')\n",
    "else:\n",
    "    print('infected')"
   ]
  },
  {
   "cell_type": "code",
   "execution_count": null,
   "metadata": {},
   "outputs": [],
   "source": []
  }
 ],
 "metadata": {
  "kernelspec": {
   "display_name": "Python 3",
   "language": "python",
   "name": "python3"
  },
  "language_info": {
   "codemirror_mode": {
    "name": "ipython",
    "version": 3
   },
   "file_extension": ".py",
   "mimetype": "text/x-python",
   "name": "python",
   "nbconvert_exporter": "python",
   "pygments_lexer": "ipython3",
   "version": "3.8.2"
  }
 },
 "nbformat": 4,
 "nbformat_minor": 4
}
